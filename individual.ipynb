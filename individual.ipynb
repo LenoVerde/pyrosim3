{
 "cells": [
  {
   "cell_type": "code",
   "execution_count": 3,
   "metadata": {},
   "outputs": [],
   "source": [
    "import random\n",
    "import pyrosim\n",
    "\n",
    "#以下3行ipynbファイルをimportするための記述．importファイルの更新はこのファイルを一度shutdownして実行し直すことで可能\n",
    "import sys\n",
    "import notebookutil as nbu\n",
    "sys.meta_path.append(nbu.NotebookFinder())\n",
    "from RandomSearchRobot import ROBOT\n",
    "\n",
    "class INDIVIDUAL:\n",
    "    def __init__(self):\n",
    "\n",
    "            self.genome = random.random() * 2 - 1\n",
    "            \n",
    "           \n",
    "            \n",
    "    def Evaluate(self):\n",
    "            sim = pyrosim.Simulator( play_paused=False , eval_time=1000 )\n",
    "\n",
    "            robot = ROBOT( sim, self.genome )\n",
    "\n",
    "            sim.start()\n",
    "            sim.wait_to_finish()\n",
    "            y = sim.get_sensor_data( sensor_id = robot.P4 , svi = 1 )\n",
    "            self.fitness = y[-1]"
   ]
  },
  {
   "cell_type": "code",
   "execution_count": null,
   "metadata": {},
   "outputs": [],
   "source": []
  }
 ],
 "metadata": {
  "kernelspec": {
   "display_name": "Python 3",
   "language": "python",
   "name": "python3"
  },
  "language_info": {
   "codemirror_mode": {
    "name": "ipython",
    "version": 3
   },
   "file_extension": ".py",
   "mimetype": "text/x-python",
   "name": "python",
   "nbconvert_exporter": "python",
   "pygments_lexer": "ipython3",
   "version": "3.7.4"
  }
 },
 "nbformat": 4,
 "nbformat_minor": 2
}
