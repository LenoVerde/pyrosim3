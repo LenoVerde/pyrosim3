{
 "cells": [
  {
   "cell_type": "code",
   "execution_count": 2,
   "metadata": {},
   "outputs": [
    {
     "data": {
      "text/plain": [
       "True"
      ]
     },
     "execution_count": 2,
     "metadata": {},
     "output_type": "execute_result"
    }
   ],
   "source": [
    "import pyrosim\n",
    "#sim = pyrosim.Simulator()\n",
    "sim = pyrosim.Simulator( play_paused=False , eval_time=100 )\n",
    "#sim.send_cylinder( x=0 , y=0 , z=0.6 , length=1.0 , radius=0.1 )\n",
    "whiteObject = sim.send_cylinder( x=0 , y=0 , z=0.6 , length=1.0, radius=0.1 )\n",
    "redObject = sim.send_cylinder( x=0.0 , y= 0.5 , z=1.1 , r1=0 , r2=1, r3=0 , r=1, g=0, b=0 )\n",
    "joint = sim.send_hinge_joint( first_body_id = whiteObject , second_body_id = redObject , x=0 , y=0, z=1.0 , n1 = -1 , n2 = 0 , n3 = 0 ,lo=-3.14159/2 , hi=3.14159/2  )\n",
    "\n",
    "T0 = sim.send_touch_sensor( body_id = whiteObject )\n",
    "T1 = sim.send_touch_sensor( body_id = redObject )\n",
    "sim.start()"
   ]
  },
  {
   "cell_type": "code",
   "execution_count": 7,
   "metadata": {},
   "outputs": [
    {
     "name": "stdout",
     "output_type": "stream",
     "text": [
      "0\n"
     ]
    }
   ],
   "source": [
    "print(whiteObject)"
   ]
  },
  {
   "cell_type": "code",
   "execution_count": 9,
   "metadata": {},
   "outputs": [
    {
     "name": "stdout",
     "output_type": "stream",
     "text": [
      "1\n"
     ]
    }
   ],
   "source": [
    "print(redObject)"
   ]
  },
  {
   "cell_type": "code",
   "execution_count": null,
   "metadata": {},
   "outputs": [],
   "source": []
  }
 ],
 "metadata": {
  "kernelspec": {
   "display_name": "Python 3",
   "language": "python",
   "name": "python3"
  },
  "language_info": {
   "codemirror_mode": {
    "name": "ipython",
    "version": 3
   },
   "file_extension": ".py",
   "mimetype": "text/x-python",
   "name": "python",
   "nbconvert_exporter": "python",
   "pygments_lexer": "ipython3",
   "version": "3.7.4"
  }
 },
 "nbformat": 4,
 "nbformat_minor": 2
}
