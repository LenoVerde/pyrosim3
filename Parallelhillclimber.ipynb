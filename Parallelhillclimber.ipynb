{
 "cells": [
  {
   "cell_type": "code",
   "execution_count": 1,
   "metadata": {},
   "outputs": [
    {
     "name": "stdout",
     "output_type": "stream",
     "text": [
      "[g: 1 ] [pw: [0.45916963 0.88712006 0.75157275 0.8741262 ] ] [p: 1.571942 ] [c: 1.572037 ]\n",
      "[g: 2 ] [pw: [ 0.45916963 -0.29274504  0.75157275  0.8741262 ] ] [p: 1.572037 ] [c: 1.571947 ]\n",
      "[g: 3 ] [pw: [ 0.45916963 -0.29274504  0.75157275  0.8741262 ] ] [p: 1.572037 ] [c: 1.572086 ]\n",
      "[g: 4 ] [pw: [ 0.45916963 -0.44297251  0.75157275  0.8741262 ] ] [p: 1.572086 ] [c: 1.57204 ]\n",
      "[g: 5 ] [pw: [ 0.45916963 -0.44297251  0.75157275  0.8741262 ] ] [p: 1.572086 ] [c: 1.573032 ]\n",
      "[g: 6 ] [pw: [-0.27672423 -0.44297251  0.75157275  0.8741262 ] ] [p: 1.573032 ] [c: 1.572057 ]\n",
      "[g: 7 ] [pw: [-0.27672423 -0.44297251  0.75157275  0.8741262 ] ] [p: 1.573032 ] [c: 1.5718 ]\n",
      "[g: 8 ] [pw: [-0.27672423 -0.44297251  0.75157275  0.8741262 ] ] [p: 1.573032 ] [c: 1.572002 ]\n",
      "[g: 9 ] [pw: [-0.27672423 -0.44297251  0.75157275  0.8741262 ] ] [p: 1.573032 ] [c: 1.572217 ]\n",
      "[g: 10 ] [pw: [-0.27672423 -0.44297251  0.75157275  0.8741262 ] ] [p: 1.573032 ] [c: -1.105071 ]\n"
     ]
    }
   ],
   "source": [
    "#以下3行ipynbファイルをimportするための記述．importファイルの更新はこのファイルを一度shutdownして実行し直すことで可能\n",
    "import sys\n",
    "import notebookutil as nbu\n",
    "sys.meta_path.append(nbu.NotebookFinder())\n",
    "\n",
    "from RobotParallelHill import ROBOT\n",
    "from individualParallelHill import INDIVIDUAL\n",
    "\n",
    "import pickle\n",
    "import copy\n",
    "import pyrosim\n",
    "import random\n",
    "import numpy\n",
    "import matplotlib.pyplot as plt\n",
    "\n",
    "parent = INDIVIDUAL()\n",
    "parent.Evaluate(True)\n",
    "#print(parent.fitness)\n",
    "    \n",
    "for i in range(0,10):\n",
    "    child = copy.deepcopy( parent )\n",
    "    child.Mutate()\n",
    "    child.Evaluate(True)\n",
    "    print('[g:' , i+1 , ']','[pw:' , parent.genome, ']','[p:' , parent.fitness , ']','[c:' , child.fitness , ']' )\n",
    "    if ( child.fitness > parent.fitness ):\n",
    "            parent = child\n",
    "            #parent.Evaluate(False)\n",
    "            parent.Evaluate(True)\n",
    "            #f = open('robot.p', 'wb')\n",
    "            #pickle.dump(parent , f )\n",
    "            #f.close()\n",
    "    \n",
    "    \n",
    "    \n",
    "    \n",
    "    "
   ]
  },
  {
   "cell_type": "code",
   "execution_count": null,
   "metadata": {},
   "outputs": [],
   "source": []
  },
  {
   "cell_type": "code",
   "execution_count": null,
   "metadata": {},
   "outputs": [],
   "source": []
  }
 ],
 "metadata": {
  "kernelspec": {
   "display_name": "Python 3",
   "language": "python",
   "name": "python3"
  },
  "language_info": {
   "codemirror_mode": {
    "name": "ipython",
    "version": 3
   },
   "file_extension": ".py",
   "mimetype": "text/x-python",
   "name": "python",
   "nbconvert_exporter": "python",
   "pygments_lexer": "ipython3",
   "version": "3.7.4"
  }
 },
 "nbformat": 4,
 "nbformat_minor": 2
}
