{
 "cells": [
  {
   "cell_type": "code",
   "execution_count": 1,
   "metadata": {},
   "outputs": [
    {
     "name": "stdout",
     "output_type": "stream",
     "text": [
      "1.307792\n"
     ]
    }
   ],
   "source": [
    "#以下3行ipynbファイルをimportするための記述．importファイルの更新はこのファイルを一度shutdownして実行し直すことで可能\n",
    "import sys\n",
    "import notebookutil as nbu\n",
    "sys.meta_path.append(nbu.NotebookFinder())\n",
    "\n",
    "from RobotHill import ROBOT\n",
    "from individualHill import INDIVIDUAL\n",
    "\n",
    "import pyrosim\n",
    "import random\n",
    "import numpy\n",
    "import matplotlib.pyplot as plt\n",
    "\n",
    "for i in range(0,1):\n",
    "    parent = INDIVIDUAL()\n",
    "    parent.Evaluate()\n",
    "    print(parent.fitness)\n",
    "    #sim = pyrosim.Simulator( play_paused=True , eval_time=700 )\n",
    "\n",
    "    #robot = ROBOT( sim, random.random()*2 - 1 )\n",
    "    #robot = ROBOT( sim, self.genome )\n",
    "    \n",
    "    #sim.start()\n",
    "    #sim.wait_to_finish()\n",
    "\n",
    "    #sensorData = sim.get_sensor_data( sensor_id = robot.P4 , svi=0 )\n",
    "    #x = sim.get_sensor_data( sensor_id = robot.P4 , svi = 0 )\n",
    "    #y = sim.get_sensor_data( sensor_id = robot.P4 , svi = 1 )\n",
    "    #z = sim.get_sensor_data( sensor_id = robot.P4 , svi = 2 )\n",
    "    #print(x)\n",
    "    \n",
    "    #myArray[-1] returns the last element of the vector called myArray.\n",
    "    #print(y[-1])\n",
    "\n",
    "    #f = plt.figure()\n",
    "    #panel = f.add_subplot(111)\n",
    "    #plt.plot(sensorData)\n",
    "    #plt.plot(x)\n",
    "    #plt.plot(y)\n",
    "    #plt.plot(z)\n",
    "    #panel.set_ylim(0,12)\n",
    "    #plt.show()"
   ]
  },
  {
   "cell_type": "code",
   "execution_count": null,
   "metadata": {},
   "outputs": [],
   "source": []
  },
  {
   "cell_type": "code",
   "execution_count": null,
   "metadata": {},
   "outputs": [],
   "source": []
  }
 ],
 "metadata": {
  "kernelspec": {
   "display_name": "Python 3",
   "language": "python",
   "name": "python3"
  },
  "language_info": {
   "codemirror_mode": {
    "name": "ipython",
    "version": 3
   },
   "file_extension": ".py",
   "mimetype": "text/x-python",
   "name": "python",
   "nbconvert_exporter": "python",
   "pygments_lexer": "ipython3",
   "version": "3.7.4"
  }
 },
 "nbformat": 4,
 "nbformat_minor": 2
}
