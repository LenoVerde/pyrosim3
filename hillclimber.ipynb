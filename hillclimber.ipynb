{
 "cells": [
  {
   "cell_type": "code",
   "execution_count": 9,
   "metadata": {},
   "outputs": [
    {
     "name": "stdout",
     "output_type": "stream",
     "text": [
      "[g: 1 ] [pw: -0.5755321398451312 ] [p: 2.367687 ] [c: 1.256853 ]\n",
      "[g: 2 ] [pw: -0.5755321398451312 ] [p: 2.367687 ] [c: 2.185136 ]\n",
      "[g: 3 ] [pw: -0.5755321398451312 ] [p: 2.367687 ] [c: 2.084978 ]\n",
      "[g: 4 ] [pw: -0.5755321398451312 ] [p: 2.367687 ] [c: 1.195209 ]\n",
      "[g: 5 ] [pw: -0.5755321398451312 ] [p: 2.367687 ] [c: 2.378755 ]\n",
      "[g: 6 ] [pw: -1.464222663817369 ] [p: 2.378755 ] [c: 2.464875 ]\n",
      "[g: 7 ] [pw: -1.6795674991158998 ] [p: 2.464875 ] [c: 2.4477 ]\n",
      "[g: 8 ] [pw: -1.6795674991158998 ] [p: 2.464875 ] [c: 2.187053 ]\n",
      "[g: 9 ] [pw: -1.6795674991158998 ] [p: 2.464875 ] [c: 2.428953 ]\n",
      "[g: 10 ] [pw: -1.6795674991158998 ] [p: 2.464875 ] [c: 1.170598 ]\n"
     ]
    }
   ],
   "source": [
    "#以下3行ipynbファイルをimportするための記述．importファイルの更新はこのファイルを一度shutdownして実行し直すことで可能\n",
    "import sys\n",
    "import notebookutil as nbu\n",
    "sys.meta_path.append(nbu.NotebookFinder())\n",
    "\n",
    "from RobotHill import ROBOT\n",
    "from individualHill import INDIVIDUAL\n",
    "\n",
    "import copy\n",
    "import pyrosim\n",
    "import random\n",
    "import numpy\n",
    "import matplotlib.pyplot as plt\n",
    "\n",
    "parent = INDIVIDUAL()\n",
    "parent.Evaluate(False)\n",
    "#print(parent.fitness)\n",
    "    \n",
    "for i in range(0,10):\n",
    "    child = copy.deepcopy( parent )\n",
    "    child.Mutate()\n",
    "    child.Evaluate(True)\n",
    "    print('[g:' , i+1 , ']','[pw:' , parent.genome, ']','[p:' , parent.fitness , ']','[c:' , child.fitness , ']' )\n",
    "    if ( child.fitness > parent.fitness ):\n",
    "            parent = child\n",
    "            parent.Evaluate(False)\n",
    "    \n",
    "    \n",
    "    \n",
    "    \n",
    "    "
   ]
  },
  {
   "cell_type": "code",
   "execution_count": null,
   "metadata": {},
   "outputs": [],
   "source": []
  },
  {
   "cell_type": "code",
   "execution_count": null,
   "metadata": {},
   "outputs": [],
   "source": []
  }
 ],
 "metadata": {
  "kernelspec": {
   "display_name": "Python 3",
   "language": "python",
   "name": "python3"
  },
  "language_info": {
   "codemirror_mode": {
    "name": "ipython",
    "version": 3
   },
   "file_extension": ".py",
   "mimetype": "text/x-python",
   "name": "python",
   "nbconvert_exporter": "python",
   "pygments_lexer": "ipython3",
   "version": "3.7.4"
  }
 },
 "nbformat": 4,
 "nbformat_minor": 2
}
