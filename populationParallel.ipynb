{
 "cells": [
  {
   "cell_type": "code",
   "execution_count": 2,
   "metadata": {},
   "outputs": [],
   "source": [
    "import sys\n",
    "import notebookutil as nbu\n",
    "sys.meta_path.append(nbu.NotebookFinder())\n",
    "from individualParallelHill import INDIVIDUAL\n",
    "\n",
    "class POPULATION:\n",
    "\n",
    "    def __init__(self):\n",
    "        self.p = {}\n",
    "        popSize = 5\n",
    "        for i in range(0,popSize):\n",
    "              self.p[i] = INDIVIDUAL()\n",
    "                \n",
    "        \n",
    "    def Print(self):\n",
    "        for i in self.p:\n",
    "            self.p[i].Print()\n",
    "            \n",
    "    def Evaluate(self):\n",
    "        for i in self.p:\n",
    "            self.p[i].Evaluate(False)\n",
    "        \n",
    "    \n",
    "        "
   ]
  },
  {
   "cell_type": "code",
   "execution_count": null,
   "metadata": {},
   "outputs": [],
   "source": []
  }
 ],
 "metadata": {
  "kernelspec": {
   "display_name": "Python 3",
   "language": "python",
   "name": "python3"
  },
  "language_info": {
   "codemirror_mode": {
    "name": "ipython",
    "version": 3
   },
   "file_extension": ".py",
   "mimetype": "text/x-python",
   "name": "python",
   "nbconvert_exporter": "python",
   "pygments_lexer": "ipython3",
   "version": "3.7.4"
  }
 },
 "nbformat": 4,
 "nbformat_minor": 2
}
