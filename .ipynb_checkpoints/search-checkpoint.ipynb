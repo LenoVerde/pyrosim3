{
 "cells": [
  {
   "cell_type": "code",
   "execution_count": null,
   "metadata": {},
   "outputs": [],
   "source": [
    "from robot import ROBOT\n",
    "import pyrosim\n",
    "import matplotlib.pyplot as plt\n",
    "\n",
    "sim = pyrosim.Simulator( play_paused=True , eval_time=1000 )\n",
    "\n",
    "sim.start()\n",
    "sim.wait_to_finish()\n",
    "\n",
    "#sensorData = sim.get_sensor_data( sensor_id = P2 )\n",
    "#print(sensorData)\n",
    "\n",
    "#f = plt.figure()\n",
    "#panel = f.add_subplot(111)\n",
    "#plt.plot(sensorData)\n",
    "#panel.set_ylim(-2,+2)\n",
    "#plt.show()"
   ]
  },
  {
   "cell_type": "code",
   "execution_count": null,
   "metadata": {},
   "outputs": [],
   "source": []
  }
 ],
 "metadata": {
  "kernelspec": {
   "display_name": "Python 3",
   "language": "python",
   "name": "python3"
  },
  "language_info": {
   "codemirror_mode": {
    "name": "ipython",
    "version": 3
   },
   "file_extension": ".py",
   "mimetype": "text/x-python",
   "name": "python",
   "nbconvert_exporter": "python",
   "pygments_lexer": "ipython3",
   "version": "3.7.4"
  }
 },
 "nbformat": 4,
 "nbformat_minor": 2
}
