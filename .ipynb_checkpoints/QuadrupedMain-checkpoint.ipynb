{
 "cells": [
  {
   "cell_type": "code",
   "execution_count": 1,
   "metadata": {},
   "outputs": [
    {
     "name": "stdout",
     "output_type": "stream",
     "text": [
      "[0 0.2911761130011261][1 0.27106398984367336][2 0.3490743153838645][3 0.00872479712232256][4 0.15977108481817898][5 0.21817104602718185][6 0.9049687489130839][7 0.10905981928217914][8 0.06164656608755419][9 0.026200225477231484]\n",
      "2\n",
      "[6 0.9049687489130839]\n",
      "[6 0.9049687489130839][8 0.06164656608755419][2 0.3490743153838645][6 0.9049687489130839][4 0.15977108481817898]\n",
      "[6 0.9049687489130839][8 0.08221155572386005][2 0.34721049667006504][6 0.6801328347093049][4 0.15972240481475056]\n",
      "3\n",
      "[6 0.9049687489130839]\n",
      "[6 0.9049687489130839][6 0.6801328347093049][6 0.9049687489130839][6 0.9049687489130839][6 0.9049687489130839]\n",
      "[6 0.9049687489130839][6 0.04053700969976986][6 0.03309459944244239][6 0.6549150176617116][6 0.23948258503313]\n",
      "4\n",
      "[6 0.9049687489130839]\n",
      "[6 0.9049687489130839][6 0.04053700969976986][6 0.9049687489130839][6 0.9049687489130839][6 0.9049687489130839]\n",
      "[6 0.9049687489130839][6 0.09550252294481744][6 0.5655604440133651][6 0.12530580134088848][6 0.6801328347093049]\n",
      "5\n",
      "[6 0.9049687489130839]\n",
      "[6 0.9049687489130839][6 0.6801328347093049][6 0.5655604440133651][6 0.6801328347093049][6 0.5655604440133651]\n",
      "[6 0.9049687489130839][6 1.41605446284456][6 0.08043892032084851][6 0.22306826153168746][6 0.259250835605105]\n",
      "6\n",
      "[6 1.41605446284456]\n",
      "[6 1.41605446284456][6 0.9049687489130839][6 0.9049687489130839][6 1.41605446284456][6 1.41605446284456]\n",
      "[6 1.41605446284456][6 0.28641831909896365][6 0.08735562180235559][6 1.6227374256386138][6 0.6018018200995914]\n",
      "7\n",
      "[6 1.6227374256386138]\n",
      "[6 1.6227374256386138][6 1.6227374256386138][6 1.41605446284456][6 1.41605446284456][6 0.6018018200995914]\n",
      "[6 1.6227374256386138][6 0.5459167959073181][6 1.41605446284456][6 0.24095506639050476][6 0.4324567923193325]\n",
      "8\n",
      "[6 1.6227374256386138]\n",
      "[6 1.6227374256386138][6 0.5459167959073181][6 1.6227374256386138][6 1.41605446284456][6 0.4324567923193325]\n",
      "[6 1.6227374256386138][6 0.3857696502660213][6 0.10355886603439203][6 0.32908334729542127][6 0.37239383238272644]\n",
      "9\n",
      "[6 1.6227374256386138]\n",
      "[6 1.6227374256386138][6 1.6227374256386138][6 1.6227374256386138][6 0.3857696502660213][6 1.6227374256386138]\n",
      "[6 1.6227374256386138][6 0.8549179541146082][6 0.31253301255408694][6 0.38435114363685435][6 0.15555669727653018]\n",
      "10\n",
      "[6 1.6227374256386138]\n",
      "[6 1.6227374256386138][6 1.6227374256386138][6 1.6227374256386138][6 0.38435114363685435][6 1.6227374256386138]\n",
      "[6 1.6227374256386138][6 0.4469993126218746][6 0.24742091269754107][6 0.48221615907031573][6 1.8950920530219157]\n"
     ]
    },
    {
     "ename": "AttributeError",
     "evalue": "'POPULATION' object has no attribute 'genome'",
     "output_type": "error",
     "traceback": [
      "\u001b[0;31m---------------------------------------------------------------------------\u001b[0m",
      "\u001b[0;31mAttributeError\u001b[0m                            Traceback (most recent call last)",
      "\u001b[0;32m<ipython-input-1-637787aa7ebf>\u001b[0m in \u001b[0;36m<module>\u001b[0;34m\u001b[0m\n\u001b[1;32m     50\u001b[0m     \u001b[0mpickle\u001b[0m\u001b[0;34m.\u001b[0m\u001b[0mdump\u001b[0m\u001b[0;34m(\u001b[0m\u001b[0mpop\u001b[0m\u001b[0;34m.\u001b[0m\u001b[0mp\u001b[0m\u001b[0;34m[\u001b[0m\u001b[0;36m0\u001b[0m\u001b[0;34m]\u001b[0m \u001b[0;34m,\u001b[0m \u001b[0mf\u001b[0m \u001b[0;34m)\u001b[0m\u001b[0;34m\u001b[0m\u001b[0;34m\u001b[0m\u001b[0m\n\u001b[1;32m     51\u001b[0m     \u001b[0mf\u001b[0m\u001b[0;34m.\u001b[0m\u001b[0mclose\u001b[0m\u001b[0;34m(\u001b[0m\u001b[0;34m)\u001b[0m\u001b[0;34m\u001b[0m\u001b[0;34m\u001b[0m\u001b[0m\n\u001b[0;32m---> 52\u001b[0;31m \u001b[0mchildren\u001b[0m\u001b[0;34m.\u001b[0m\u001b[0mEvaluate3\u001b[0m\u001b[0;34m(\u001b[0m\u001b[0;34m)\u001b[0m\u001b[0;34m\u001b[0m\u001b[0;34m\u001b[0m\u001b[0m\n\u001b[0m",
      "\u001b[0;32m~/Documents/GitHub/pyrosim4/pyrosim3/quadrupedPopulation.ipynb\u001b[0m in \u001b[0;36mEvaluate3\u001b[0;34m(self)\u001b[0m\n",
      "\u001b[0;31mAttributeError\u001b[0m: 'POPULATION' object has no attribute 'genome'"
     ]
    }
   ],
   "source": [
    "#以下3行ipynbファイルをimportするための記述．importファイルの更新はこのファイルを一度shutdownして実行し直すことで可能\n",
    "import sys\n",
    "import notebookutil as nbu\n",
    "sys.meta_path.append(nbu.NotebookFinder())\n",
    "from quadrupedPopulation import POPULATION\n",
    "\n",
    "from quadrupedRobot import ROBOT\n",
    "from quadrupedIndivisual import INDIVIDUAL\n",
    "\n",
    "import pickle\n",
    "import copy\n",
    "import pyrosim\n",
    "import random\n",
    "import numpy\n",
    "import matplotlib.pyplot as plt\n",
    "\n",
    "'''\n",
    "parents = POPULATION()\n",
    "parents.Evaluate()\n",
    "parents.Print()\n",
    "\n",
    "\n",
    "\n",
    "#複数用\n",
    "for i in range(0,10):\n",
    "    children = copy.deepcopy( parents )\n",
    "    children.Mutate()\n",
    "    children.Evaluate()\n",
    "    parents.ReplaceWith(children)\n",
    "    print(i+1,end=\"\")\n",
    "    parents.Print()\n",
    "    \n",
    "children.Evaluate2()\n",
    "'''\n",
    "pop= POPULATION(10)\n",
    "pop.Initialize()\n",
    "pop.Evaluate()\n",
    "pop.Print()\n",
    "\n",
    "for g in range(1,10, 1):\n",
    "    children= POPULATION(5)\n",
    "    print(g+1,end=\"\")\n",
    "    children.Print()\n",
    "    children.Fill_From(pop)\n",
    "    children.Evaluate()\n",
    "    children.Print()\n",
    "    pop= children\n",
    "\n",
    "    f= open(\"robot_best.p\", \"wb\")\n",
    "    pickle.dump(pop.p[0] , f )\n",
    "    f.close()\n",
    "children.Evaluate2()"
   ]
  },
  {
   "cell_type": "code",
   "execution_count": 3,
   "metadata": {},
   "outputs": [],
   "source": [
    "children.Evaluate2()"
   ]
  },
  {
   "cell_type": "code",
   "execution_count": null,
   "metadata": {},
   "outputs": [],
   "source": []
  }
 ],
 "metadata": {
  "kernelspec": {
   "display_name": "Python 3",
   "language": "python",
   "name": "python3"
  },
  "language_info": {
   "codemirror_mode": {
    "name": "ipython",
    "version": 3
   },
   "file_extension": ".py",
   "mimetype": "text/x-python",
   "name": "python",
   "nbconvert_exporter": "python",
   "pygments_lexer": "ipython3",
   "version": "3.7.4"
  }
 },
 "nbformat": 4,
 "nbformat_minor": 2
}
