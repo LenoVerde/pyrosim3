{
 "cells": [
  {
   "cell_type": "code",
   "execution_count": null,
   "metadata": {},
   "outputs": [],
   "source": [
    "class ROBOT:\n",
    "    def __init__(self,sim):\n",
    "        sim.send_cylinder( x=0 , y=0 , z=0.6 , length=1.0 , radius=0.1 )\n",
    "        #sensors\n",
    "        sim.send_touch_sensor( body_id = whiteObject )\n",
    "        sim.send_touch_sensor( body_id = redObject )\n",
    "        sim.send_proprioceptive_sensor( joint_id = joint )\n",
    "        #redの先端にセンサー\n",
    "        sim.send_ray_sensor( body_id = redObject , x = 0 , y = 1.1 , z = 1.1 , r1 = 0 , r2 = 1, r3 = 0)\n",
    "\n",
    "        #neurons\n",
    "        sim.send_sensor_neuron( sensor_id = T0 )\n",
    "        sim.send_sensor_neuron( sensor_id = T1 )\n",
    "        sim.send_motor_neuron( joint_id = joint )\n",
    "\n",
    "        #synspses\n",
    "        sim.send_synapse(source_neuron_id = SN1 , target_neuron_id = MN2 , weight = -1.0 )"
   ]
  },
  {
   "cell_type": "code",
   "execution_count": null,
   "metadata": {},
   "outputs": [],
   "source": []
  },
  {
   "cell_type": "code",
   "execution_count": null,
   "metadata": {},
   "outputs": [],
   "source": []
  }
 ],
 "metadata": {
  "kernelspec": {
   "display_name": "Python 3",
   "language": "python",
   "name": "python3"
  },
  "language_info": {
   "codemirror_mode": {
    "name": "ipython",
    "version": 3
   },
   "file_extension": ".py",
   "mimetype": "text/x-python",
   "name": "python",
   "nbconvert_exporter": "python",
   "pygments_lexer": "ipython3",
   "version": "3.7.4"
  }
 },
 "nbformat": 4,
 "nbformat_minor": 2
}
