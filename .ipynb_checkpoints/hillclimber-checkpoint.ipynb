{
 "cells": [
  {
   "cell_type": "code",
   "execution_count": 3,
   "metadata": {},
   "outputs": [
    {
     "name": "stdout",
     "output_type": "stream",
     "text": [
      "[g: 1 ] [p: 1.170143 ] [c: 2.364666 ]\n",
      "[g: 2 ] [p: 2.364666 ] [c: 2.249758 ]\n",
      "[g: 3 ] [p: 2.364666 ] [c: 2.185113 ]\n",
      "[g: 4 ] [p: 2.364666 ] [c: 2.103286 ]\n",
      "[g: 5 ] [p: 2.364666 ] [c: 2.351749 ]\n",
      "[g: 6 ] [p: 2.364666 ] [c: 1.285755 ]\n",
      "[g: 7 ] [p: 2.364666 ] [c: 2.372858 ]\n",
      "[g: 8 ] [p: 2.372858 ] [c: 2.356385 ]\n",
      "[g: 9 ] [p: 2.372858 ] [c: 2.285509 ]\n",
      "[g: 10 ] [p: 2.372858 ] [c: 2.365662 ]\n"
     ]
    }
   ],
   "source": [
    "#以下3行ipynbファイルをimportするための記述．importファイルの更新はこのファイルを一度shutdownして実行し直すことで可能\n",
    "import sys\n",
    "import notebookutil as nbu\n",
    "sys.meta_path.append(nbu.NotebookFinder())\n",
    "\n",
    "from RobotHill import ROBOT\n",
    "from individualHill import INDIVIDUAL\n",
    "\n",
    "import copy\n",
    "import pyrosim\n",
    "import random\n",
    "import numpy\n",
    "import matplotlib.pyplot as plt\n",
    "\n",
    "parent = INDIVIDUAL()\n",
    "parent.Evaluate(False)\n",
    "#print(parent.fitness)\n",
    "    \n",
    "for i in range(0,10):\n",
    "    child = copy.deepcopy( parent )\n",
    "    child.Mutate()\n",
    "    child.Evaluate(True)\n",
    "    print('[g:' , i+1 , ']','[p:' , parent.fitness , ']','[c:' , child.fitness , ']' )\n",
    "    if ( child.fitness > parent.fitness ):\n",
    "            parent = child\n",
    "    \n",
    "    \n",
    "    \n",
    "    \n",
    "    \n",
    "    "
   ]
  },
  {
   "cell_type": "code",
   "execution_count": null,
   "metadata": {},
   "outputs": [],
   "source": []
  },
  {
   "cell_type": "code",
   "execution_count": null,
   "metadata": {},
   "outputs": [],
   "source": []
  }
 ],
 "metadata": {
  "kernelspec": {
   "display_name": "Python 3",
   "language": "python",
   "name": "python3"
  },
  "language_info": {
   "codemirror_mode": {
    "name": "ipython",
    "version": 3
   },
   "file_extension": ".py",
   "mimetype": "text/x-python",
   "name": "python",
   "nbconvert_exporter": "python",
   "pygments_lexer": "ipython3",
   "version": "3.7.4"
  }
 },
 "nbformat": 4,
 "nbformat_minor": 2
}
