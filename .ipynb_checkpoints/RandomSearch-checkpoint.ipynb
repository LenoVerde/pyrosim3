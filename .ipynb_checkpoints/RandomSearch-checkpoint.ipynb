{
 "cells": [
  {
   "cell_type": "code",
   "execution_count": null,
   "metadata": {},
   "outputs": [],
   "source": [
    "#以下3行ipynbファイルをimportするための記述．importファイルの更新はこのファイルを一度shutdownして実行し直すことで可能\n",
    "import sys\n",
    "import notebookutil as nbu\n",
    "sys.meta_path.append(nbu.NotebookFinder())\n",
    "\n",
    "from RandomSearchRobot import ROBOT\n",
    "import pyrosim\n",
    "import random\n",
    "import matplotlib.pyplot as plt\n",
    "\n",
    "for i in range(0,1):\n",
    "    sim = pyrosim.Simulator( play_paused=True , eval_time=1000 )\n",
    "\n",
    "    robot = ROBOT( sim, random.random()*2 - 1 )\n",
    "\n",
    "    sim.start()\n",
    "    sim.wait_to_finish()\n",
    "\n",
    "    #sensorData = sim.get_sensor_data( sensor_id = P2 )\n",
    "    #print(sensorData)\n",
    "\n",
    "    #f = plt.figure()\n",
    "    #panel = f.add_subplot(111)\n",
    "    #plt.plot(sensorData)\n",
    "    #panel.set_ylim(-2,+2)\n",
    "    #plt.show()"
   ]
  },
  {
   "cell_type": "code",
   "execution_count": null,
   "metadata": {},
   "outputs": [],
   "source": []
  },
  {
   "cell_type": "code",
   "execution_count": null,
   "metadata": {},
   "outputs": [],
   "source": []
  }
 ],
 "metadata": {
  "kernelspec": {
   "display_name": "Python 3",
   "language": "python",
   "name": "python3"
  },
  "language_info": {
   "codemirror_mode": {
    "name": "ipython",
    "version": 3
   },
   "file_extension": ".py",
   "mimetype": "text/x-python",
   "name": "python",
   "nbconvert_exporter": "python",
   "pygments_lexer": "ipython3",
   "version": "3.7.4"
  }
 },
 "nbformat": 4,
 "nbformat_minor": 2
}
