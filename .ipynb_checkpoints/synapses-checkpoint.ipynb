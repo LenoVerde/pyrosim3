{
 "cells": [
  {
   "cell_type": "code",
   "execution_count": null,
   "metadata": {},
   "outputs": [],
   "source": [
    "import pyrosim\n",
    "import matplotlib.pyplot as plt\n",
    "#sim = pyrosim.Simulator()\n",
    "sim = pyrosim.Simulator( play_paused=True , eval_time=100 )\n",
    "#sim.send_cylinder( x=0 , y=0 , z=0.6 , length=1.0 , radius=0.1 )\n",
    "whiteObject = sim.send_cylinder( x=0 , y=0 , z=0.6 , length=1.0, radius=0.1 )\n",
    "redObject = sim.send_cylinder( x=0.0 , y= 0.5 , z=1.1 , r1=0 , r2=1, r3=0 , r=1, g=0, b=0 )\n",
    "joint = sim.send_hinge_joint( first_body_id = whiteObject , second_body_id = redObject , x=0 , y=0, z=1.0 , n1 = -1 , n2 = 0 , n3 = 0 ,lo=-3.14159/2 , hi=3.14159/2  )\n",
    "\n",
    "T0 = sim.send_touch_sensor( body_id = whiteObject )\n",
    "T1 = sim.send_touch_sensor( body_id = redObject )\n",
    "P2 = sim.send_proprioceptive_sensor( joint_id = joint )\n",
    "\n",
    "#redの中央にレーザーセンサー\n",
    "#R3 = sim.send_ray_sensor( body_id = redObject , x = 0 , y = 0.5 , z = 0.9 , r1 = 0 , r2 = 0, r3 = -1)\n",
    "#redの先端にセンサー\n",
    "R3 = sim.send_ray_sensor( body_id = redObject , x = 0 , y = 1.1 , z = 1.1 , r1 = 0 , r2 = 1, r3 = 0)\n",
    "\n",
    "SN0 = sim.send_sensor_neuron( sensor_id = T0 )\n",
    "SN1 = sim.send_sensor_neuron( sensor_id = T1 )\n",
    "#MN2 = sim.send_motor_neuron( joint_id = joint )\n",
    "\n",
    "sim.send_synapse(source_neuron_id = SN1 , target_neuron_id = MN2 , weight = 1.0 )\n",
    "\n",
    "sim.start()\n",
    "sim.wait_to_finish()\n",
    "\n",
    "sensorData = sim.get_sensor_data( sensor_id = R3 )\n",
    "#print(sensorData)\n",
    "\n",
    "\n",
    "#f = plt.figure()\n",
    "#panel = f.add_subplot(111)\n",
    "#plt.plot(sensorData)\n",
    "#panel.set_ylim(0,+11)\n",
    "#plt.show()"
   ]
  },
  {
   "cell_type": "code",
   "execution_count": null,
   "metadata": {},
   "outputs": [],
   "source": []
  }
 ],
 "metadata": {
  "kernelspec": {
   "display_name": "Python 3",
   "language": "python",
   "name": "python3"
  },
  "language_info": {
   "codemirror_mode": {
    "name": "ipython",
    "version": 3
   },
   "file_extension": ".py",
   "mimetype": "text/x-python",
   "name": "python",
   "nbconvert_exporter": "python",
   "pygments_lexer": "ipython3",
   "version": "3.7.4"
  }
 },
 "nbformat": 4,
 "nbformat_minor": 2
}
