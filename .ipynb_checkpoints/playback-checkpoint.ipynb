{
 "cells": [
  {
   "cell_type": "code",
   "execution_count": null,
   "metadata": {},
   "outputs": [],
   "source": [
    "#以下3行ipynbファイルをimportするための記述．importファイルの更新はこのファイルを一度shutdownして実行し直すことで可能\n",
    "import sys\n",
    "import notebookutil as nbu\n",
    "sys.meta_path.append(nbu.NotebookFinder())\n",
    "from individual import INDIVIDUAL\n",
    "\n",
    "import pickle\n",
    "\n",
    "f = open( 'robot.p' , 'rb')\n",
    "best = pickle.load(f)\n",
    "f.close\n",
    "\n",
    "best.Evaluate(false)\n",
    "print('[pw:' , best.genome, ']','[p:' , best.fitness , ']')"
   ]
  }
 ],
 "metadata": {
  "kernelspec": {
   "display_name": "Python 3",
   "language": "python",
   "name": "python3"
  },
  "language_info": {
   "codemirror_mode": {
    "name": "ipython",
    "version": 3
   },
   "file_extension": ".py",
   "mimetype": "text/x-python",
   "name": "python",
   "nbconvert_exporter": "python",
   "pygments_lexer": "ipython3",
   "version": "3.7.4"
  }
 },
 "nbformat": 4,
 "nbformat_minor": 2
}
