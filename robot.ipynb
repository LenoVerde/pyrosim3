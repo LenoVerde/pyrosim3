{
 "cells": [
  {
   "cell_type": "code",
   "execution_count": null,
   "metadata": {},
   "outputs": [],
   "source": [
    "#以下3行ipynbファイルをimportするための記述．importファイルの更新はこのファイルを一度shutdownして実行し直すことで可能\n",
    "import sys\n",
    "import notebookutil as nbu\n",
    "sys.meta_path.append(nbu.NotebookFinder())\n",
    "import pyrosim\n",
    "#requires \"pip install matplotlib\" and \"sudo apt-get install python-tk\"\n",
    "import matplotlib.pyplot as plt\n",
    "\n",
    "class ROBOT:\n",
    "    def __init__(self, sim, wts):\n",
    "        whiteObject= sim.send_cylinder( x=0 , y=0 , z=0.6, length=1.0 , radius=0.1, collision_group='robot' )\n",
    "        redObject = sim.send_cylinder( x=0 , y=0.5, z=1.1, r1=0, r2=1, r3=0, r=1, g=0, b=0, collision_group='robot')\n",
    "\n",
    "        joint = sim.send_hinge_joint( first_body_id = whiteObject , second_body_id = redObject,  x=0, y=0, z=1.1, n1 = -1, n2 = 0, n3 = 0, lo=-3.14159/2 , hi=3.14159/2 )\n",
    "\n",
    "        T0 = sim.send_touch_sensor( body_id = whiteObject )\n",
    "        T1 = sim.send_touch_sensor( body_id = redObject )\n",
    "        P2 = sim.send_proprioceptive_sensor( joint_id = joint )\n",
    "        R3 = sim.send_ray_sensor( body_id = redObject , x = 0 , y = 0.5 , z = 1.1 , r1 = 0 , r2 = 0, r3 = -1)\n",
    "\n",
    "        SN0 = sim.send_sensor_neuron( sensor_id = T0 )\n",
    "        SN1 = sim.send_sensor_neuron( sensor_id = T1 )\n",
    "        SN2 = sim.send_sensor_neuron( sensor_id = P2 )\n",
    "        SN3 = sim.send_sensor_neuron( sensor_id = R3 )\n",
    "\n",
    "        MN2 = sim.send_motor_neuron( joint_id = joint )\n",
    "\n",
    "\n",
    "        sensorNeurons = {}\n",
    "        sensorNeurons[0] = SN0\n",
    "        sensorNeurons[1] = SN1\n",
    "        sensorNeurons[2] = SN2\n",
    "        sensorNeurons[3] = SN3\n",
    "\n",
    "        motorNeurons= {}\n",
    "        motorNeurons[0]= MN2\n",
    "\n",
    "        for s in sensorNeurons:\n",
    "            for m in motorNeurons:\n",
    "                sim.send_synapse( source_neuron_id = sensorNeurons[s] , target_neuron_id = motorNeurons[m] , weight = wts[s] )\n",
    "        \n",
    "        self.P4 = sim.send_position_sensor( body_id = redObject )\n",
    "\n",
    "#------------Environmental objects-----------------\n",
    "        randomObject= sim.send_cylinder( x=0 , y=8 , z=20, length=0.7 , radius=0.5, collision_group='env')\n",
    "        randomObject= sim.send_sphere( x=0 , y=5 , z=2, radius=0.5, collision_group='env')\n",
    "\n",
    "#------------Collision settings--------------------\n",
    "        sim.assign_collision('robot', 'env')\n",
    "        sim.assign_collision('env', 'env')\n",
    "\n",
    "\n",
    "\n"
   ]
  }
 ],
 "metadata": {
  "kernelspec": {
   "display_name": "Python 3",
   "language": "python",
   "name": "python3"
  },
  "language_info": {
   "codemirror_mode": {
    "name": "ipython",
    "version": 3
   },
   "file_extension": ".py",
   "mimetype": "text/x-python",
   "name": "python",
   "nbconvert_exporter": "python",
   "pygments_lexer": "ipython3",
   "version": "3.7.4"
  }
 },
 "nbformat": 4,
 "nbformat_minor": 2
}
