{
 "cells": [
  {
   "cell_type": "code",
   "execution_count": 26,
   "metadata": {},
   "outputs": [],
   "source": [
    "import random\n",
    "import pyrosim\n",
    "import math\n",
    "import numpy\n",
    "\n",
    "#以下3行ipynbファイルをimportするための記述．importファイルの更新はこのファイルを一度shutdownして実行し直すことで可能\n",
    "import sys\n",
    "import notebookutil as nbu\n",
    "sys.meta_path.append(nbu.NotebookFinder())\n",
    "from RobotParallelHill import ROBOT\n",
    "\n",
    "class INDIVIDUAL:\n",
    "            \n",
    "    def __init__(self,i):\n",
    "            self.ID=i\n",
    "            self.genome = numpy.random.random(4) * 2 - 1\n",
    "            \n",
    "    #blindはTrueでON    \n",
    "    def Evaluate(self, pb):\n",
    "            #sim = pyrosim.Simulator( play_paused=False , eval_time=1000 ,play_blind = pb )\n",
    "\n",
    "            #robot = ROBOT( sim, self.genome )\n",
    "\n",
    "            #sim.start()\n",
    "            self.Start_Evaluation(pb)\n",
    "            #self.Compute_Fitness()\n",
    "            #sim.wait_to_finish()\n",
    "            #y = sim.get_sensor_data( sensor_id = robot.P4 , svi = 1 )\n",
    "            #self.fitness = y[-1]\n",
    "            \n",
    "    def Start_Evaluation(self,pb):\n",
    "            self.sim = pyrosim.Simulator( play_paused=False , eval_time=700 ,play_blind = pb )\n",
    "\n",
    "            self.robot = ROBOT(self.sim, self.genome )\n",
    "\n",
    "            self.sim.start()\n",
    "            \n",
    "    def Compute_Fitness(self):\n",
    "            self.sim.wait_to_finish()\n",
    "            y = self.sim.get_sensor_data( sensor_id = self.robot.P4 , svi = 1 )\n",
    "            self.fitness = y[-1]\n",
    "            del self.sim\n",
    "            \n",
    "    def Mutate(self):\n",
    "            geneToMutate = random.randint(0,3)\n",
    "            #ガウス分布(Gaussian distribution)を使う\n",
    "            self.genome[geneToMutate] = random.gauss( self.genome[geneToMutate] , math.fabs(self.genome[geneToMutate]) )\n",
    "    \n",
    "    def Print(self):\n",
    "            #print('[', end='')\n",
    "            #print( self.ID +',', end='')\n",
    "            #print( self.fitness+',', end='')\n",
    "            #print(']' , end='')\n",
    "            #print(self.fitness, end='')\n",
    "            print('[{0} {1}]'.format(self.ID, self.fitness))\n",
    "            \n",
    "            "
   ]
  },
  {
   "cell_type": "code",
   "execution_count": null,
   "metadata": {},
   "outputs": [],
   "source": []
  },
  {
   "cell_type": "code",
   "execution_count": null,
   "metadata": {},
   "outputs": [],
   "source": []
  }
 ],
 "metadata": {
  "kernelspec": {
   "display_name": "Python 3",
   "language": "python",
   "name": "python3"
  },
  "language_info": {
   "codemirror_mode": {
    "name": "ipython",
    "version": 3
   },
   "file_extension": ".py",
   "mimetype": "text/x-python",
   "name": "python",
   "nbconvert_exporter": "python",
   "pygments_lexer": "ipython3",
   "version": "3.7.4"
  }
 },
 "nbformat": 4,
 "nbformat_minor": 2
}
