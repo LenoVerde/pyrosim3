{
 "cells": [
  {
   "cell_type": "code",
   "execution_count": 1,
   "metadata": {},
   "outputs": [
    {
     "name": "stdout",
     "output_type": "stream",
     "text": [
      "[0 3.9002599716186523][1 -0.2491990029811859][2 -0.25144898891448975][3 3.285120964050293][4 1.5727720260620117]\n",
      "0[0 3.916037082672119][1 -0.23801399767398834][2 -0.25144898891448975][3 3.285120964050293][4 1.5727720260620117]\n",
      "1[0 3.916037082672119][1 -0.23453600704669952][2 -0.25144898891448975][3 3.285120964050293][4 1.5727720260620117]\n",
      "2[0 3.916037082672119][1 -0.22382399439811707][2 -0.25144898891448975][3 3.285120964050293][4 1.5732109546661377]\n",
      "3[0 4.254954814910889][1 -0.22382399439811707][2 -0.25144898891448975][3 3.285120964050293][4 1.5732680559158325]\n",
      "4[0 4.254954814910889][1 -0.22382399439811707][2 -0.25144898891448975][3 3.285120964050293][4 1.5732680559158325]\n",
      "5[0 4.254954814910889][1 -0.22366000711917877][2 -0.25144898891448975][3 3.285120964050293][4 1.5732680559158325]\n",
      "6[0 4.254954814910889][1 -0.2234790027141571][2 -0.25144898891448975][3 3.394723892211914][4 1.5817129611968994]\n",
      "7[0 4.254954814910889][1 -0.2234790027141571][2 -0.25144898891448975][3 3.394723892211914][4 3.7559609413146973]\n",
      "8[0 4.254954814910889][1 -0.2234790027141571][2 -0.25144898891448975][3 3.700500965118408][4 4.253416061401367]\n",
      "9[0 4.254954814910889][1 -0.22343599796295166][2 -0.25143301486968994][3 3.700500965118408][4 4.275457859039307]\n"
     ]
    }
   ],
   "source": [
    "#以下3行ipynbファイルをimportするための記述．importファイルの更新はこのファイルを一度shutdownして実行し直すことで可能\n",
    "import sys\n",
    "import notebookutil as nbu\n",
    "sys.meta_path.append(nbu.NotebookFinder())\n",
    "from populationParallel import POPULATION\n",
    "\n",
    "from RobotParallelHill import ROBOT\n",
    "from individualParallelHill2 import INDIVIDUAL\n",
    "\n",
    "import pickle\n",
    "import copy\n",
    "import pyrosim\n",
    "import random\n",
    "import numpy\n",
    "import matplotlib.pyplot as plt\n",
    "\n",
    "parents = POPULATION()\n",
    "parents.Evaluate()\n",
    "parents.Print()\n",
    "\n",
    "\n",
    "#parent = INDIVIDUAL()\n",
    "#parent.Evaluate(True)\n",
    "#print(parent.fitness)\n",
    "   \n",
    "#1体用\n",
    "#for i in range(0,10):\n",
    "    #child = copy.deepcopy( parent )\n",
    "    #child.Mutate()\n",
    "    #child.Evaluate(True)\n",
    "    #print('[g:' , i+1 , ']','[pw:' , parent.genome, ']','[p:' , parent.fitness , ']','[c:' , child.fitness , ']' )\n",
    "    #if ( child.fitness > parent.fitness ):\n",
    "            #parent = child\n",
    "            #parent.Evaluate(False)\n",
    "            #parent.Evaluate(True)\n",
    "            #f = open('robot.p', 'wb')\n",
    "            #pickle.dump(parent , f )\n",
    "            #f.close()\n",
    "\n",
    "#複数用\n",
    "for i in range(0,10):\n",
    "    children = copy.deepcopy( parents )\n",
    "    children.Mutate()\n",
    "    children.Evaluate()\n",
    "    parents.ReplaceWith(children)\n",
    "    print(i+1,end=\"\")\n",
    "    parents.Print()\n",
    "    #print('[g:' , i+1 , ']','[pw:' , parent.genome, ']','[p:' , parent.fitness , ']','[c:' , child.fitness , ']' )\n",
    "    '''\n",
    "    if ( child.fitness > parent.fitness ):\n",
    "            parent = child\n",
    "            parent.Evaluate(False)\n",
    "            parent.Evaluate(True)\n",
    "            f = open('robot.p', 'wb')\n",
    "            pickle.dump(parent , f )\n",
    "            f.close()\n",
    "    '''\n",
    "    \n",
    "    \n",
    "    \n",
    "    "
   ]
  },
  {
   "cell_type": "code",
   "execution_count": null,
   "metadata": {},
   "outputs": [],
   "source": []
  },
  {
   "cell_type": "code",
   "execution_count": null,
   "metadata": {},
   "outputs": [],
   "source": []
  }
 ],
 "metadata": {
  "kernelspec": {
   "display_name": "Python 3",
   "language": "python",
   "name": "python3"
  },
  "language_info": {
   "codemirror_mode": {
    "name": "ipython",
    "version": 3
   },
   "file_extension": ".py",
   "mimetype": "text/x-python",
   "name": "python",
   "nbconvert_exporter": "python",
   "pygments_lexer": "ipython3",
   "version": "3.7.4"
  }
 },
 "nbformat": 4,
 "nbformat_minor": 2
}
