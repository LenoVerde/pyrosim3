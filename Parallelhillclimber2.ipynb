{
 "cells": [
  {
   "cell_type": "code",
   "execution_count": 3,
   "metadata": {},
   "outputs": [
    {
     "name": "stdout",
     "output_type": "stream",
     "text": [
      "[ 0.10192931 -0.50758543  0.72007362 -0.19851476]\n",
      "[-0.42492665  0.77653717 -0.27604152  0.65441915]\n",
      "[ 0.86246423 -0.80598713  0.43440546  0.82757468]\n",
      "[-0.03741086  0.08483567 -0.41291818  0.68333183]\n",
      "[ 0.69888141 -0.22868645  0.74510991  0.57664825]\n"
     ]
    }
   ],
   "source": [
    "#以下3行ipynbファイルをimportするための記述．importファイルの更新はこのファイルを一度shutdownして実行し直すことで可能\n",
    "import sys\n",
    "import notebookutil as nbu\n",
    "sys.meta_path.append(nbu.NotebookFinder())\n",
    "from populationParallel import POPULATION\n",
    "\n",
    "from RobotParallelHill import ROBOT\n",
    "from individualParallelHill import INDIVIDUAL\n",
    "\n",
    "#import pickle\n",
    "#import copy\n",
    "#import pyrosim\n",
    "#import random\n",
    "#import numpy\n",
    "#import matplotlib.pyplot as plt\n",
    "\n",
    "pop = POPULATION()\n",
    "pop.Evaluate()\n",
    "\n",
    "\n",
    "#parent = INDIVIDUAL()\n",
    "#parent.Evaluate(True)\n",
    "#print(parent.fitness)\n",
    "    \n",
    "#for i in range(0,10):\n",
    "    #child = copy.deepcopy( parent )\n",
    "    #child.Mutate()\n",
    "    #child.Evaluate(True)\n",
    "    #print('[g:' , i+1 , ']','[pw:' , parent.genome, ']','[p:' , parent.fitness , ']','[c:' , child.fitness , ']' )\n",
    "    #if ( child.fitness > parent.fitness ):\n",
    "            #parent = child\n",
    "            #parent.Evaluate(False)\n",
    "            #parent.Evaluate(True)\n",
    "            #f = open('robot.p', 'wb')\n",
    "            #pickle.dump(parent , f )\n",
    "            #f.close()\n",
    "    \n",
    "    \n",
    "    \n",
    "    \n",
    "    "
   ]
  },
  {
   "cell_type": "code",
   "execution_count": null,
   "metadata": {},
   "outputs": [],
   "source": []
  },
  {
   "cell_type": "code",
   "execution_count": null,
   "metadata": {},
   "outputs": [],
   "source": []
  }
 ],
 "metadata": {
  "kernelspec": {
   "display_name": "Python 3",
   "language": "python",
   "name": "python3"
  },
  "language_info": {
   "codemirror_mode": {
    "name": "ipython",
    "version": 3
   },
   "file_extension": ".py",
   "mimetype": "text/x-python",
   "name": "python",
   "nbconvert_exporter": "python",
   "pygments_lexer": "ipython3",
   "version": "3.7.4"
  }
 },
 "nbformat": 4,
 "nbformat_minor": 2
}
